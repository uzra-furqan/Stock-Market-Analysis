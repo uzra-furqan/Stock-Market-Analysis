{
 "cells": [
  {
   "cell_type": "code",
   "execution_count": null,
   "metadata": {
    "ExecuteTime": {
     "start_time": "2023-05-23T17:10:18.077Z"
    },
    "colab": {
     "base_uri": "https://localhost:8080/"
    },
    "id": "J0f_m8GZuFfw",
    "outputId": "832716d9-02d2-41ec-ea4c-03874d2e389a"
   },
   "outputs": [],
   "source": [
    "!pip install streamlit -q"
   ]
  },
  {
   "cell_type": "code",
   "execution_count": null,
   "metadata": {
    "ExecuteTime": {
     "start_time": "2023-05-23T17:10:18.081Z"
    },
    "colab": {
     "base_uri": "https://localhost:8080/"
    },
    "id": "53CtoJ8-eRIR",
    "outputId": "8ce335ba-7cfc-40f7-94e6-eb427d5792a5"
   },
   "outputs": [],
   "source": [
    "%%writefile app.py\n",
    "import streamlit as st\n",
    "import pandas as pd\n",
    "import numpy as np\n",
    "import matplotlib.pyplot as plt\n",
    "from prophet import Prophet\n",
    "from prophet.diagnostics import performance_metrics\n",
    "from prophet.diagnostics import cross_validation\n",
    "from prophet.plot import plot_cross_validation_metric\n",
    "import base64\n",
    "from itertools import cycle\n",
    "import plotly.express as px\n",
    "\n",
    "st.title('Reliance_Stock Forecasting of next 30days using Streamlit')\n",
    "st.subheader('UZRA FURQAN')\n",
    "\n",
    "st.write(\"IMPORT DATA\")\n",
    "st.write(\"Import the time series csv file. It should have two columns labelled as 'ds' and 'y'.The 'ds' column should be of datetime format by Pandas. The 'y' column must be numeric representing the measurement to be forecasted.\")\n",
    "\n",
    "data = st.file_uploader('Upload here',type='csv')\n",
    "\n",
    "if data is not None:\n",
    "    new_names = ['ds', 'y']\n",
    "    appdata = pd.read_csv(data,names=new_names,header=0,usecols=[0,1])\n",
    "    appdata['ds'] = pd.to_datetime(appdata['ds'],errors='coerce') \n",
    "    \n",
    "    st.write(data)\n",
    "    \n",
    "    max_date = appdata['ds'].max()\n",
    "\n",
    "st.write(\"SELECT FORECAST PERIOD\")\n",
    "\n",
    "periods_input = st.slider('How many days forecast do you want?',min_value = 1, max_value = 30)\n",
    "             \n",
    "if data is not None:\n",
    "    obj = Prophet()\n",
    "    obj.fit(appdata)\n",
    "\n",
    "st.write(\"VISUALIZE FORECASTED DATA\")\n",
    "st.write(\"The following plot shows future predicted values. 'yhat' is the predicted value; upper and lower limits are 80% confidence intervals by default\")\n",
    "\n",
    "if data is not None:\n",
    "    future = obj.make_future_dataframe(periods=periods_input)\n",
    "    \n",
    "    fcst = obj.predict(future)\n",
    "    forecast = fcst[['ds', 'yhat', 'yhat_lower', 'yhat_upper']]\n",
    "\n",
    "    forecast_filtered =  forecast[forecast['ds'] > max_date]    \n",
    "    st.write(forecast_filtered)\n",
    "\n",
    "    \n",
    "    st.write(\"The next visual shows the actual (black dots) and predicted (blue line) values over time.\")    \n",
    "\n",
    "    figure1 = obj.plot(fcst)\n",
    "    st.write(figure1)\n",
    " \n",
    "    \n",
    "    st.write(\"The next few visuals show a high level trend of predicted values, day of week trends, and yearly trends (if dataset covers multiple years). The blue shaded area represents upper and lower confidence intervals.\")\n",
    "      \n",
    "\n",
    "    figure2 = obj.plot_components(fcst)\n",
    "    st.write(figure2)\n",
    "\n",
    "\n"
   ]
  },
  {
   "cell_type": "markdown",
   "metadata": {
    "id": "iT-uahM_xGBV"
   },
   "source": [
    "# Local Tunnel concept\n"
   ]
  },
  {
   "cell_type": "code",
   "execution_count": null,
   "metadata": {
    "ExecuteTime": {
     "start_time": "2023-05-23T17:10:18.083Z"
    },
    "colab": {
     "base_uri": "https://localhost:8080/"
    },
    "id": "GpTSyqU6xJo4",
    "outputId": "0191bba2-f074-4a11-f211-f0252d67dbb5"
   },
   "outputs": [],
   "source": [
    "!streamlit run app.py & npx localtunnel --port 8501"
   ]
  }
 ],
 "metadata": {
  "colab": {
   "provenance": []
  },
  "kernelspec": {
   "display_name": "Python 3 (ipykernel)",
   "language": "python",
   "name": "python3"
  },
  "language_info": {
   "codemirror_mode": {
    "name": "ipython",
    "version": 3
   },
   "file_extension": ".py",
   "mimetype": "text/x-python",
   "name": "python",
   "nbconvert_exporter": "python",
   "pygments_lexer": "ipython3",
   "version": "3.9.13"
  }
 },
 "nbformat": 4,
 "nbformat_minor": 1
}
